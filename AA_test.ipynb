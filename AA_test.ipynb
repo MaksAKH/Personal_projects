{
 "cells": [
  {
   "cell_type": "markdown",
   "id": "5b670cb7",
   "metadata": {},
   "source": [
    "А/А-тестирование мобильного приложения. Необходимо посчитать результаты A/A-теста, проверяя метрику качества FPR (будем проверять на конверсии в покупку). Известно, что сплит-система сломана. Требуется проверить утверждение о поломке и найти ее причины, если сплит-система действительно сломана"
   ]
  },
  {
   "cell_type": "code",
   "execution_count": 1,
   "id": "9ea5ac5f",
   "metadata": {},
   "outputs": [],
   "source": [
    "#Импорт библиотек\n",
    "import numpy as np\n",
    "import pandas as pd\n",
    "from scipy import stats\n",
    "import matplotlib.pyplot as plt\n",
    "\n",
    "from tqdm.auto import tqdm"
   ]
  },
  {
   "cell_type": "code",
   "execution_count": 6,
   "id": "af3b714b",
   "metadata": {},
   "outputs": [
    {
     "data": {
      "text/html": [
       "<div>\n",
       "<style scoped>\n",
       "    .dataframe tbody tr th:only-of-type {\n",
       "        vertical-align: middle;\n",
       "    }\n",
       "\n",
       "    .dataframe tbody tr th {\n",
       "        vertical-align: top;\n",
       "    }\n",
       "\n",
       "    .dataframe thead th {\n",
       "        text-align: right;\n",
       "    }\n",
       "</style>\n",
       "<table border=\"1\" class=\"dataframe\">\n",
       "  <thead>\n",
       "    <tr style=\"text-align: right;\">\n",
       "      <th></th>\n",
       "      <th>Unnamed: 0</th>\n",
       "      <th>uid</th>\n",
       "      <th>experimentVariant</th>\n",
       "      <th>version</th>\n",
       "      <th>purchase</th>\n",
       "    </tr>\n",
       "  </thead>\n",
       "  <tbody>\n",
       "    <tr>\n",
       "      <th>0</th>\n",
       "      <td>1</td>\n",
       "      <td>c4ca4238a0b923820dcc509a6f75849b</td>\n",
       "      <td>1</td>\n",
       "      <td>v2.8.0</td>\n",
       "      <td>0</td>\n",
       "    </tr>\n",
       "    <tr>\n",
       "      <th>1</th>\n",
       "      <td>2</td>\n",
       "      <td>c81e728d9d4c2f636f067f89cc14862c</td>\n",
       "      <td>0</td>\n",
       "      <td>v2.9.0</td>\n",
       "      <td>0</td>\n",
       "    </tr>\n",
       "    <tr>\n",
       "      <th>2</th>\n",
       "      <td>3</td>\n",
       "      <td>eccbc87e4b5ce2fe28308fd9f2a7baf3</td>\n",
       "      <td>1</td>\n",
       "      <td>v2.9.0</td>\n",
       "      <td>0</td>\n",
       "    </tr>\n",
       "    <tr>\n",
       "      <th>3</th>\n",
       "      <td>4</td>\n",
       "      <td>a87ff679a2f3e71d9181a67b7542122c</td>\n",
       "      <td>1</td>\n",
       "      <td>v2.8.0</td>\n",
       "      <td>0</td>\n",
       "    </tr>\n",
       "    <tr>\n",
       "      <th>4</th>\n",
       "      <td>5</td>\n",
       "      <td>e4da3b7fbbce2345d7772b0674a318d5</td>\n",
       "      <td>1</td>\n",
       "      <td>v2.8.0</td>\n",
       "      <td>0</td>\n",
       "    </tr>\n",
       "  </tbody>\n",
       "</table>\n",
       "</div>"
      ],
      "text/plain": [
       "   Unnamed: 0                               uid  experimentVariant version  \\\n",
       "0           1  c4ca4238a0b923820dcc509a6f75849b                  1  v2.8.0   \n",
       "1           2  c81e728d9d4c2f636f067f89cc14862c                  0  v2.9.0   \n",
       "2           3  eccbc87e4b5ce2fe28308fd9f2a7baf3                  1  v2.9.0   \n",
       "3           4  a87ff679a2f3e71d9181a67b7542122c                  1  v2.8.0   \n",
       "4           5  e4da3b7fbbce2345d7772b0674a318d5                  1  v2.8.0   \n",
       "\n",
       "   purchase  \n",
       "0         0  \n",
       "1         0  \n",
       "2         0  \n",
       "3         0  \n",
       "4         0  "
      ]
     },
     "execution_count": 6,
     "metadata": {},
     "output_type": "execute_result"
    }
   ],
   "source": [
    "#Загрузка датафрейма\n",
    "df = pd.read_csv(r'C:\\Users\\Пользователь\\OneDrive\\Документы\\Statistic_data\\Lesson_10\\hw_aa.csv', sep=';')\n",
    "df.head()"
   ]
  },
  {
   "cell_type": "code",
   "execution_count": 4,
   "id": "d6d4493f",
   "metadata": {},
   "outputs": [
    {
     "data": {
      "text/plain": [
       "1    63916\n",
       "0    63102\n",
       "Name: experimentVariant, dtype: int64"
      ]
     },
     "execution_count": 4,
     "metadata": {},
     "output_type": "execute_result"
    }
   ],
   "source": [
    "#Оценка размеров экспериментальных групп\n",
    "df.experimentVariant.value_counts()"
   ]
  },
  {
   "cell_type": "code",
   "execution_count": 14,
   "id": "d5eeb4dd",
   "metadata": {},
   "outputs": [
    {
     "data": {
      "text/plain": [
       "v2.8.0      82835\n",
       "v2.9.0      23954\n",
       "v3.8.0.0    11804\n",
       "v3.7.4.0     8425\n",
       "Name: version, dtype: int64"
      ]
     },
     "execution_count": 14,
     "metadata": {},
     "output_type": "execute_result"
    }
   ],
   "source": [
    "#Оценка распределения по версиям\n",
    "df.version.value_counts()"
   ]
  },
  {
   "cell_type": "code",
   "execution_count": null,
   "id": "0a4bcb6c",
   "metadata": {},
   "outputs": [],
   "source": [
    "#АА тест по группам по всем версиям"
   ]
  },
  {
   "cell_type": "code",
   "execution_count": 25,
   "id": "a7d34f13",
   "metadata": {},
   "outputs": [
    {
     "data": {
      "application/vnd.jupyter.widget-view+json": {
       "model_id": "6079da42379a4e0288535c63a17e9e72",
       "version_major": 2,
       "version_minor": 0
      },
      "text/plain": [
       "  0%|          | 0/1000 [00:00<?, ?it/s]"
      ]
     },
     "metadata": {},
     "output_type": "display_data"
    },
    {
     "data": {
      "image/png": "[encoded data removed]",
      "text/plain": [
       "<Figure size 432x288 with 1 Axes>"
      ]
     },
     "metadata": {},
     "output_type": "display_data"
    },
    {
     "data": {
      "text/plain": [
       "0.933"
      ]
     },
     "execution_count": 25,
     "metadata": {},
     "output_type": "execute_result"
    }
   ],
   "source": [
    "n = 100000\n",
    "simulations = 1000\n",
    "n_s = 1000\n",
    "res = []\n",
    "\n",
    "# Запуск симуляций A/A теста\n",
    "for i in tqdm(range(simulations)):\n",
    "    s1 = df[df['experimentVariant'] == 1]['purchase'].sample(n_s, replace = False).values\n",
    "    s2 = df[df['experimentVariant'] == 0]['purchase'].sample(n_s, replace = False).values\n",
    "    res.append(stats.ttest_ind(s1, s2, equal_var = False)[1]) # сохраняем pvalue\n",
    "\n",
    "plt.hist(res, bins = 50)\n",
    "plt.style.use('ggplot')\n",
    "plt.xlabel('pvalues')\n",
    "plt.ylabel('frequency')\n",
    "plt.title(\"Histogram of ttest A/A simulations \")\n",
    "plt.show()\n",
    "\n",
    "# Проверяем, что количество ложноположительных случаев не превышает альфа\n",
    "sum(np.array(res) <0.05) / simulations"
   ]
  },
  {
   "cell_type": "markdown",
   "id": "5639229e",
   "metadata": {},
   "source": [
    "FPR > альфа\n",
    "\n",
    "Сплит-система действительно сломана"
   ]
  },
  {
   "cell_type": "code",
   "execution_count": 27,
   "id": "82990560",
   "metadata": {},
   "outputs": [
    {
     "data": {
      "text/html": [
       "<div>\n",
       "<style scoped>\n",
       "    .dataframe tbody tr th:only-of-type {\n",
       "        vertical-align: middle;\n",
       "    }\n",
       "\n",
       "    .dataframe tbody tr th {\n",
       "        vertical-align: top;\n",
       "    }\n",
       "\n",
       "    .dataframe thead th {\n",
       "        text-align: right;\n",
       "    }\n",
       "</style>\n",
       "<table border=\"1\" class=\"dataframe\">\n",
       "  <thead>\n",
       "    <tr style=\"text-align: right;\">\n",
       "      <th></th>\n",
       "      <th>experimentVariant</th>\n",
       "      <th>purchase</th>\n",
       "    </tr>\n",
       "  </thead>\n",
       "  <tbody>\n",
       "    <tr>\n",
       "      <th>0</th>\n",
       "      <td>0</td>\n",
       "      <td>0.023945</td>\n",
       "    </tr>\n",
       "    <tr>\n",
       "      <th>1</th>\n",
       "      <td>1</td>\n",
       "      <td>0.053242</td>\n",
       "    </tr>\n",
       "  </tbody>\n",
       "</table>\n",
       "</div>"
      ],
      "text/plain": [
       "   experimentVariant  purchase\n",
       "0                  0  0.023945\n",
       "1                  1  0.053242"
      ]
     },
     "execution_count": 27,
     "metadata": {},
     "output_type": "execute_result"
    }
   ],
   "source": [
    "#Конверсия по экспериментальным группам\n",
    "df.groupby('experimentVariant', as_index=False) \\\n",
    "    .agg({'purchase': 'mean'})"
   ]
  },
  {
   "cell_type": "markdown",
   "id": "f0f9920e",
   "metadata": {},
   "source": [
    "Существенная разница в коверсии по экспериментальным группам, что подтверждает результаты АА-теста для всех версий"
   ]
  },
  {
   "cell_type": "code",
   "execution_count": 28,
   "id": "dd87f586",
   "metadata": {},
   "outputs": [
    {
     "data": {
      "text/html": [
       "<div>\n",
       "<style scoped>\n",
       "    .dataframe tbody tr th:only-of-type {\n",
       "        vertical-align: middle;\n",
       "    }\n",
       "\n",
       "    .dataframe tbody tr th {\n",
       "        vertical-align: top;\n",
       "    }\n",
       "\n",
       "    .dataframe thead th {\n",
       "        text-align: right;\n",
       "    }\n",
       "</style>\n",
       "<table border=\"1\" class=\"dataframe\">\n",
       "  <thead>\n",
       "    <tr style=\"text-align: right;\">\n",
       "      <th></th>\n",
       "      <th>version</th>\n",
       "      <th>purchase</th>\n",
       "    </tr>\n",
       "  </thead>\n",
       "  <tbody>\n",
       "    <tr>\n",
       "      <th>0</th>\n",
       "      <td>v2.8.0</td>\n",
       "      <td>0.023372</td>\n",
       "    </tr>\n",
       "    <tr>\n",
       "      <th>1</th>\n",
       "      <td>v2.9.0</td>\n",
       "      <td>0.072973</td>\n",
       "    </tr>\n",
       "    <tr>\n",
       "      <th>2</th>\n",
       "      <td>v3.7.4.0</td>\n",
       "      <td>0.061484</td>\n",
       "    </tr>\n",
       "    <tr>\n",
       "      <th>3</th>\n",
       "      <td>v3.8.0.0</td>\n",
       "      <td>0.060319</td>\n",
       "    </tr>\n",
       "  </tbody>\n",
       "</table>\n",
       "</div>"
      ],
      "text/plain": [
       "    version  purchase\n",
       "0    v2.8.0  0.023372\n",
       "1    v2.9.0  0.072973\n",
       "2  v3.7.4.0  0.061484\n",
       "3  v3.8.0.0  0.060319"
      ]
     },
     "execution_count": 28,
     "metadata": {},
     "output_type": "execute_result"
    }
   ],
   "source": [
    "#Конверсия по версиям\n",
    "df.groupby('version', as_index=False) \\\n",
    "    .agg({'purchase': 'mean'})"
   ]
  },
  {
   "cell_type": "code",
   "execution_count": null,
   "id": "870faf71",
   "metadata": {},
   "outputs": [],
   "source": [
    "#Скорее всего проблема в пользователях версии v2.8.0"
   ]
  },
  {
   "cell_type": "code",
   "execution_count": 93,
   "id": "214c7d40",
   "metadata": {},
   "outputs": [],
   "source": [
    "#Переведем запрос в фунуцию и проверим все версии\n",
    "def aa_test(df1, df2):\n",
    "\n",
    "    n = 100000\n",
    "    simulations = 1000\n",
    "    n_s = 1000\n",
    "    res = []\n",
    "\n",
    "\n",
    "    # Запуск симуляций A/A теста\n",
    "    for i in tqdm(range(simulations)):\n",
    "        s1 = df1.sample(n_s, replace = False).values\n",
    "        s2 = df2.sample(n_s, replace = False).values\n",
    "        res.append(stats.ttest_ind(s1, s2, equal_var = False)[1]) # сохраняем pvalue\n",
    "    \n",
    "    plt.hist(res, bins = 50)\n",
    "    plt.style.use('ggplot')\n",
    "    plt.xlabel('pvalues')\n",
    "    plt.ylabel('frequency')\n",
    "    plt.title(\"Histogram of ttest A/A simulations \")\n",
    "    \n",
    "    return plt.show(), sum(np.array(res) <0.05) / simulations"
   ]
  },
  {
   "cell_type": "code",
   "execution_count": null,
   "id": "334b1aea",
   "metadata": {},
   "outputs": [],
   "source": [
    "#Для точглсти выыодов с помощью функции проверим АА-тесты по всем вресиям для экспериментальных групп"
   ]
  },
  {
   "cell_type": "code",
   "execution_count": 96,
   "id": "1f7137d9",
   "metadata": {},
   "outputs": [
    {
     "name": "stderr",
     "output_type": "stream",
     "text": [
      "C:\\Users\\73B5~1\\AppData\\Local\\Temp/ipykernel_2720/1788298911.py:1: UserWarning: Boolean Series key will be reindexed to match DataFrame index.\n",
      "  df1_v2_8_0 = df[df['version'] == 'v2.8.0'][df['experimentVariant'] == 1]['purchase']\n",
      "C:\\Users\\73B5~1\\AppData\\Local\\Temp/ipykernel_2720/1788298911.py:2: UserWarning: Boolean Series key will be reindexed to match DataFrame index.\n",
      "  df2_v2_8_0 = df[df['version'] == 'v2.8.0'][df['experimentVariant'] == 0]['purchase']\n"
     ]
    }
   ],
   "source": [
    "#Версия v2.8.0\n",
    "df1_v2_8_0 = df[df['version'] == 'v2.8.0'][df['experimentVariant'] == 1]['purchase']\n",
    "df2_v2_8_0 = df[df['version'] == 'v2.8.0'][df['experimentVariant'] == 0]['purchase']"
   ]
  },
  {
   "cell_type": "code",
   "execution_count": 99,
   "id": "cb18c29c",
   "metadata": {},
   "outputs": [
    {
     "name": "stderr",
     "output_type": "stream",
     "text": [
      "C:\\Users\\73B5~1\\AppData\\Local\\Temp/ipykernel_2720/710502466.py:1: UserWarning: Boolean Series key will be reindexed to match DataFrame index.\n",
      "  df1_v2_9_0 = df[df['version'] == 'v2.9.0'][df['experimentVariant'] == 1]['purchase']\n",
      "C:\\Users\\73B5~1\\AppData\\Local\\Temp/ipykernel_2720/710502466.py:2: UserWarning: Boolean Series key will be reindexed to match DataFrame index.\n",
      "  df2_v2_9_0 = df[df['version'] == 'v2.9.0'][df['experimentVariant'] == 0]['purchase']\n"
     ]
    }
   ],
   "source": [
    "#Версия v2.9.0\n",
    "df1_v2_9_0 = df[df['version'] == 'v2.9.0'][df['experimentVariant'] == 1]['purchase']\n",
    "df2_v2_9_0 = df[df['version'] == 'v2.9.0'][df['experimentVariant'] == 0]['purchase']"
   ]
  },
  {
   "cell_type": "code",
   "execution_count": 101,
   "id": "c83d31cc",
   "metadata": {},
   "outputs": [
    {
     "name": "stderr",
     "output_type": "stream",
     "text": [
      "C:\\Users\\73B5~1\\AppData\\Local\\Temp/ipykernel_2720/3983447995.py:2: UserWarning: Boolean Series key will be reindexed to match DataFrame index.\n",
      "  df1_v3_7_4_0 = df[df['version'] == 'v3.7.4.0'][df['experimentVariant'] == 1]['purchase']\n",
      "C:\\Users\\73B5~1\\AppData\\Local\\Temp/ipykernel_2720/3983447995.py:3: UserWarning: Boolean Series key will be reindexed to match DataFrame index.\n",
      "  df2_v3_7_4_0 = df[df['version'] == 'v3.7.4.0'][df['experimentVariant'] == 0]['purchase']\n"
     ]
    }
   ],
   "source": [
    "#Версия v3.7.4.0\n",
    "df1_v3_7_4_0 = df[df['version'] == 'v3.7.4.0'][df['experimentVariant'] == 1]['purchase']\n",
    "df2_v3_7_4_0 = df[df['version'] == 'v3.7.4.0'][df['experimentVariant'] == 0]['purchase']"
   ]
  },
  {
   "cell_type": "code",
   "execution_count": 104,
   "id": "a1f5143b",
   "metadata": {},
   "outputs": [
    {
     "name": "stderr",
     "output_type": "stream",
     "text": [
      "C:\\Users\\73B5~1\\AppData\\Local\\Temp/ipykernel_2720/2485261118.py:2: UserWarning: Boolean Series key will be reindexed to match DataFrame index.\n",
      "  df1_v3_8_0_0 = df[df['version'] == 'v3.8.0.0'][df['experimentVariant'] == 1]['purchase']\n",
      "C:\\Users\\73B5~1\\AppData\\Local\\Temp/ipykernel_2720/2485261118.py:3: UserWarning: Boolean Series key will be reindexed to match DataFrame index.\n",
      "  df2_v3_8_0_0 = df[df['version'] == 'v3.8.0.0'][df['experimentVariant'] == 0]['purchase']\n"
     ]
    }
   ],
   "source": [
    "#Версия v3.8.0.0\n",
    "df1_v3_8_0_0 = df[df['version'] == 'v3.8.0.0'][df['experimentVariant'] == 1]['purchase']\n",
    "df2_v3_8_0_0 = df[df['version'] == 'v3.8.0.0'][df['experimentVariant'] == 0]['purchase']"
   ]
  },
  {
   "cell_type": "code",
   "execution_count": null,
   "id": "8ba2ab94",
   "metadata": {},
   "outputs": [],
   "source": [
    "#Результаты АА-тестов по всем версиям"
   ]
  },
  {
   "cell_type": "code",
   "execution_count": 149,
   "id": "8caa95fe",
   "metadata": {},
   "outputs": [
    {
     "data": {
      "application/vnd.jupyter.widget-view+json": {
       "model_id": "ef8dc4e74f514e51a3959483135b5c00",
       "version_major": 2,
       "version_minor": 0
      },
      "text/plain": [
       "  0%|          | 0/1000 [00:00<?, ?it/s]"
      ]
     },
     "metadata": {},
     "output_type": "display_data"
    },
    {
     "data": {
      "image/png": "[encoded data removed]",
      "text/plain": [
       "<Figure size 432x288 with 1 Axes>"
      ]
     },
     "metadata": {},
     "output_type": "display_data"
    },
    {
     "data": {
      "text/plain": [
       "(None, 1.0)"
      ]
     },
     "execution_count": 149,
     "metadata": {},
     "output_type": "execute_result"
    }
   ],
   "source": [
    "aa_test(df1_v2_8_0, df2_v2_8_0)"
   ]
  },
  {
   "cell_type": "code",
   "execution_count": 107,
   "id": "23be6d0d",
   "metadata": {},
   "outputs": [
    {
     "data": {
      "application/vnd.jupyter.widget-view+json": {
       "model_id": "639733586cf64fe98bca0e71f9fa8dd4",
       "version_major": 2,
       "version_minor": 0
      },
      "text/plain": [
       "  0%|          | 0/1000 [00:00<?, ?it/s]"
      ]
     },
     "metadata": {},
     "output_type": "display_data"
    },
    {
     "data": {
      "image/png": "[encoded data removed]",
      "text/plain": [
       "<Figure size 432x288 with 1 Axes>"
      ]
     },
     "metadata": {},
     "output_type": "display_data"
    },
    {
     "data": {
      "text/plain": [
       "(None, 0.048)"
      ]
     },
     "execution_count": 107,
     "metadata": {},
     "output_type": "execute_result"
    }
   ],
   "source": [
    "aa_test(df1_v2_9_0, df2_v2_9_0)"
   ]
  },
  {
   "cell_type": "code",
   "execution_count": 103,
   "id": "76967deb",
   "metadata": {},
   "outputs": [
    {
     "data": {
      "application/vnd.jupyter.widget-view+json": {
       "model_id": "a1c9994ced0e48e594033a22b63fd33a",
       "version_major": 2,
       "version_minor": 0
      },
      "text/plain": [
       "  0%|          | 0/1000 [00:00<?, ?it/s]"
      ]
     },
     "metadata": {},
     "output_type": "display_data"
    },
    {
     "data": {
      "image/png": "[encoded data removed]",
      "text/plain": [
       "<Figure size 432x288 with 1 Axes>"
      ]
     },
     "metadata": {},
     "output_type": "display_data"
    },
    {
     "data": {
      "text/plain": [
       "(None, 0.038)"
      ]
     },
     "execution_count": 103,
     "metadata": {},
     "output_type": "execute_result"
    }
   ],
   "source": [
    "aa_test(df1_v3_7_4_0, df2_v3_7_4_0)"
   ]
  },
  {
   "cell_type": "code",
   "execution_count": 151,
   "id": "7af471cb",
   "metadata": {},
   "outputs": [
    {
     "data": {
      "application/vnd.jupyter.widget-view+json": {
       "model_id": "157a9c6e373d4539886f15f34338f62b",
       "version_major": 2,
       "version_minor": 0
      },
      "text/plain": [
       "  0%|          | 0/1000 [00:00<?, ?it/s]"
      ]
     },
     "metadata": {},
     "output_type": "display_data"
    },
    {
     "data": {
      "image/png": "[encoded data removed]",
      "text/plain": [
       "<Figure size 432x288 with 1 Axes>"
      ]
     },
     "metadata": {},
     "output_type": "display_data"
    },
    {
     "data": {
      "text/plain": [
       "(None, 0.052)"
      ]
     },
     "execution_count": 151,
     "metadata": {},
     "output_type": "execute_result"
    }
   ],
   "source": [
    "aa_test(df1_v3_8_0_0, df2_v3_8_0_0)"
   ]
  },
  {
   "cell_type": "markdown",
   "id": "17780dac",
   "metadata": {},
   "source": [
    "Проблема в версии v2.8.0, исключим пользователей данной версии из датафрейма и проведем АА-тест для пользователей версий 'v2.9.0', 'v3.7.4.0', 'v3.8.0.0'"
   ]
  },
  {
   "cell_type": "code",
   "execution_count": 152,
   "id": "39633dec",
   "metadata": {},
   "outputs": [
    {
     "data": {
      "text/plain": [
       "['v2.9.0', 'v3.7.4.0', 'v3.8.0.0']"
      ]
     },
     "execution_count": 152,
     "metadata": {},
     "output_type": "execute_result"
    }
   ],
   "source": [
    "version_spisok = list(df.version.unique())\n",
    "version_spisok.pop(0)\n",
    "version_spisok"
   ]
  },
  {
   "cell_type": "code",
   "execution_count": 146,
   "id": "41b9beb0",
   "metadata": {},
   "outputs": [
    {
     "data": {
      "text/html": [
       "<div>\n",
       "<style scoped>\n",
       "    .dataframe tbody tr th:only-of-type {\n",
       "        vertical-align: middle;\n",
       "    }\n",
       "\n",
       "    .dataframe tbody tr th {\n",
       "        vertical-align: top;\n",
       "    }\n",
       "\n",
       "    .dataframe thead th {\n",
       "        text-align: right;\n",
       "    }\n",
       "</style>\n",
       "<table border=\"1\" class=\"dataframe\">\n",
       "  <thead>\n",
       "    <tr style=\"text-align: right;\">\n",
       "      <th></th>\n",
       "      <th>Unnamed: 0</th>\n",
       "      <th>uid</th>\n",
       "      <th>experimentVariant</th>\n",
       "      <th>version</th>\n",
       "      <th>purchase</th>\n",
       "    </tr>\n",
       "  </thead>\n",
       "  <tbody>\n",
       "    <tr>\n",
       "      <th>1</th>\n",
       "      <td>2</td>\n",
       "      <td>c81e728d9d4c2f636f067f89cc14862c</td>\n",
       "      <td>0</td>\n",
       "      <td>v2.9.0</td>\n",
       "      <td>0</td>\n",
       "    </tr>\n",
       "    <tr>\n",
       "      <th>2</th>\n",
       "      <td>3</td>\n",
       "      <td>eccbc87e4b5ce2fe28308fd9f2a7baf3</td>\n",
       "      <td>1</td>\n",
       "      <td>v2.9.0</td>\n",
       "      <td>0</td>\n",
       "    </tr>\n",
       "    <tr>\n",
       "      <th>6</th>\n",
       "      <td>7</td>\n",
       "      <td>8f14e45fceea167a5a36dedd4bea2543</td>\n",
       "      <td>0</td>\n",
       "      <td>v2.9.0</td>\n",
       "      <td>0</td>\n",
       "    </tr>\n",
       "    <tr>\n",
       "      <th>10</th>\n",
       "      <td>11</td>\n",
       "      <td>6512bd43d9caa6e02c990b0a82652dca</td>\n",
       "      <td>1</td>\n",
       "      <td>v2.9.0</td>\n",
       "      <td>0</td>\n",
       "    </tr>\n",
       "    <tr>\n",
       "      <th>13</th>\n",
       "      <td>14</td>\n",
       "      <td>aab3238922bcc25a6f606eb525ffdc56</td>\n",
       "      <td>1</td>\n",
       "      <td>v2.9.0</td>\n",
       "      <td>0</td>\n",
       "    </tr>\n",
       "  </tbody>\n",
       "</table>\n",
       "</div>"
      ],
      "text/plain": [
       "    Unnamed: 0                               uid  experimentVariant version  \\\n",
       "1            2  c81e728d9d4c2f636f067f89cc14862c                  0  v2.9.0   \n",
       "2            3  eccbc87e4b5ce2fe28308fd9f2a7baf3                  1  v2.9.0   \n",
       "6            7  8f14e45fceea167a5a36dedd4bea2543                  0  v2.9.0   \n",
       "10          11  6512bd43d9caa6e02c990b0a82652dca                  1  v2.9.0   \n",
       "13          14  aab3238922bcc25a6f606eb525ffdc56                  1  v2.9.0   \n",
       "\n",
       "    purchase  \n",
       "1          0  \n",
       "2          0  \n",
       "6          0  \n",
       "10         0  \n",
       "13         0  "
      ]
     },
     "execution_count": 146,
     "metadata": {},
     "output_type": "execute_result"
    }
   ],
   "source": [
    "df_final = df.query(\"version in @version_spisok\")\n",
    "df_final.head()"
   ]
  },
  {
   "cell_type": "code",
   "execution_count": 147,
   "id": "c93313c7",
   "metadata": {},
   "outputs": [],
   "source": [
    "#АА-тест для экспериментальных групп (исключили версию v2.8.0)\n",
    "df_final_1 = df_final[df_final['experimentVariant'] == 1]['purchase']\n",
    "df_final_2 = df_final[df_final['experimentVariant'] == 0]['purchase']"
   ]
  },
  {
   "cell_type": "code",
   "execution_count": 148,
   "id": "c52cacea",
   "metadata": {},
   "outputs": [
    {
     "data": {
      "application/vnd.jupyter.widget-view+json": {
       "model_id": "b0d59738c9f64e66af283ad4a30ea92e",
       "version_major": 2,
       "version_minor": 0
      },
      "text/plain": [
       "  0%|          | 0/1000 [00:00<?, ?it/s]"
      ]
     },
     "metadata": {},
     "output_type": "display_data"
    },
    {
     "data": {
      "image/png": "[encoded data removed]",
      "text/plain": [
       "<Figure size 432x288 with 1 Axes>"
      ]
     },
     "metadata": {},
     "output_type": "display_data"
    },
    {
     "data": {
      "text/plain": [
       "(None, 0.037)"
      ]
     },
     "execution_count": 148,
     "metadata": {},
     "output_type": "execute_result"
    }
   ],
   "source": [
    "aa_test(df_final_1, df_final_2)"
   ]
  },
  {
   "cell_type": "code",
   "execution_count": null,
   "id": "0b99f0bd",
   "metadata": {},
   "outputs": [],
   "source": [
    "FPR < альфа\n",
    "\n",
    "Сплит-система работает"
   ]
  },
  {
   "cell_type": "code",
   "execution_count": 168,
   "id": "eb534b87",
   "metadata": {},
   "outputs": [],
   "source": [
    "#Распределение значений по покупкам в экспериментальных группах для версии v.2.8.0"
   ]
  },
  {
   "cell_type": "code",
   "execution_count": 166,
   "id": "2f6e5b89",
   "metadata": {},
   "outputs": [
    {
     "data": {
      "text/plain": [
       "0    39657\n",
       "1     1895\n",
       "Name: purchase, dtype: int64"
      ]
     },
     "execution_count": 166,
     "metadata": {},
     "output_type": "execute_result"
    }
   ],
   "source": [
    "df1_v2_8_0.value_counts()"
   ]
  },
  {
   "cell_type": "code",
   "execution_count": 167,
   "id": "66ef8944",
   "metadata": {},
   "outputs": [
    {
     "data": {
      "text/plain": [
       "0    41242\n",
       "1       41\n",
       "Name: purchase, dtype: int64"
      ]
     },
     "execution_count": 167,
     "metadata": {},
     "output_type": "execute_result"
    }
   ],
   "source": [
    "df2_v2_8_0.value_counts()"
   ]
  },
  {
   "cell_type": "code",
   "execution_count": 169,
   "id": "e7c42cf3",
   "metadata": {},
   "outputs": [],
   "source": [
    "#Распределение значений по покупкам в экспериментальных группах, датафрейм исключает версию v.2.8.0"
   ]
  },
  {
   "cell_type": "code",
   "execution_count": 164,
   "id": "54a23f22",
   "metadata": {},
   "outputs": [
    {
     "data": {
      "text/plain": [
       "0    20856\n",
       "1     1508\n",
       "Name: purchase, dtype: int64"
      ]
     },
     "execution_count": 164,
     "metadata": {},
     "output_type": "execute_result"
    }
   ],
   "source": [
    "df_final_1.value_counts()"
   ]
  },
  {
   "cell_type": "code",
   "execution_count": 165,
   "id": "e579fd9a",
   "metadata": {},
   "outputs": [
    {
     "data": {
      "text/plain": [
       "0    20349\n",
       "1     1470\n",
       "Name: purchase, dtype: int64"
      ]
     },
     "execution_count": 165,
     "metadata": {},
     "output_type": "execute_result"
    }
   ],
   "source": [
    "df_final_2.value_counts()"
   ]
  },
  {
   "cell_type": "markdown",
   "id": "29431f83",
   "metadata": {},
   "source": [
    "***ЗАКЛЮЧЕНИЕ***\n",
    "\n",
    "На исходом датафрейме неокрректно работает сплит-система.\n",
    "Установлено, что на корректность работы влияет группа пользователей с версией v2.8.0. Подтверждается высоким p-value (более 0.05), также подтверждено значительной разницей в конверсии внутри экспериментальных групп пользователей с версией v2.8.0.\n",
    "\n",
    "После исключения пользователей с версией v.2.8.0 из датафрейма сплит система работает корректно, могут быть проведены дальнейшие тесты (АВ-тесты)."
   ]
  },
  {
   "cell_type": "code",
   "execution_count": 171,
   "id": "4106e610",
   "metadata": {},
   "outputs": [
    {
     "data": {
      "text/plain": [
       "0         0\n",
       "3         0\n",
       "4         0\n",
       "5         0\n",
       "7         0\n",
       "         ..\n",
       "127005    0\n",
       "127009    0\n",
       "127010    0\n",
       "127016    0\n",
       "127017    0\n",
       "Name: purchase, Length: 41552, dtype: int64"
      ]
     },
     "execution_count": 171,
     "metadata": {},
     "output_type": "execute_result"
    }
   ],
   "source": [
    "df[(df.version == 'v2.8.0') & (df.experimentVariant == 1)]['purchase']"
   ]
  },
  {
   "cell_type": "code",
   "execution_count": 172,
   "id": "8c6ad84a",
   "metadata": {},
   "outputs": [
    {
     "data": {
      "text/plain": [
       "0         0\n",
       "3         0\n",
       "4         0\n",
       "5         0\n",
       "7         0\n",
       "         ..\n",
       "127005    0\n",
       "127009    0\n",
       "127010    0\n",
       "127016    0\n",
       "127017    0\n",
       "Name: purchase, Length: 41552, dtype: int64"
      ]
     },
     "execution_count": 172,
     "metadata": {},
     "output_type": "execute_result"
    }
   ],
   "source": [
    "df[(df['version'] == 'v2.8.0') & (df['experimentVariant'] == 1)]['purchase']"
   ]
  },
  {
   "cell_type": "code",
   "execution_count": 175,
   "id": "cfa23c22",
   "metadata": {},
   "outputs": [
    {
     "name": "stderr",
     "output_type": "stream",
     "text": [
      "C:\\Users\\73B5~1\\AppData\\Local\\Temp/ipykernel_2720/956290295.py:1: UserWarning: Boolean Series key will be reindexed to match DataFrame index.\n",
      "  df[df['version'] == 'v2.8.0'][df['experimentVariant'] == 1][df['purchase'] == 1][df['Unnamed: 0'] == 36]\n"
     ]
    },
    {
     "data": {
      "text/html": [
       "<div>\n",
       "<style scoped>\n",
       "    .dataframe tbody tr th:only-of-type {\n",
       "        vertical-align: middle;\n",
       "    }\n",
       "\n",
       "    .dataframe tbody tr th {\n",
       "        vertical-align: top;\n",
       "    }\n",
       "\n",
       "    .dataframe thead th {\n",
       "        text-align: right;\n",
       "    }\n",
       "</style>\n",
       "<table border=\"1\" class=\"dataframe\">\n",
       "  <thead>\n",
       "    <tr style=\"text-align: right;\">\n",
       "      <th></th>\n",
       "      <th>Unnamed: 0</th>\n",
       "      <th>uid</th>\n",
       "      <th>experimentVariant</th>\n",
       "      <th>version</th>\n",
       "      <th>purchase</th>\n",
       "    </tr>\n",
       "  </thead>\n",
       "  <tbody>\n",
       "    <tr>\n",
       "      <th>35</th>\n",
       "      <td>36</td>\n",
       "      <td>19ca14e7ea6328a42e0eb13d585e4c22</td>\n",
       "      <td>1</td>\n",
       "      <td>v2.8.0</td>\n",
       "      <td>1</td>\n",
       "    </tr>\n",
       "  </tbody>\n",
       "</table>\n",
       "</div>"
      ],
      "text/plain": [
       "    Unnamed: 0                               uid  experimentVariant version  \\\n",
       "35          36  19ca14e7ea6328a42e0eb13d585e4c22                  1  v2.8.0   \n",
       "\n",
       "    purchase  \n",
       "35         1  "
      ]
     },
     "execution_count": 175,
     "metadata": {},
     "output_type": "execute_result"
    }
   ],
   "source": [
    "df[df['version'] == 'v2.8.0'][df['experimentVariant'] == 1][df['purchase'] == 1][df['Unnamed: 0'] == 36]"
   ]
  },
  {
   "cell_type": "code",
   "execution_count": null,
   "id": "caf044bc",
   "metadata": {},
   "outputs": [],
   "source": []
  }
 ],
 "metadata": {
  "kernelspec": {
   "display_name": "Python 3 (ipykernel)",
   "language": "python",
   "name": "python3"
  },
  "language_info": {
   "codemirror_mode": {
    "name": "ipython",
    "version": 3
   },
   "file_extension": ".py",
   "mimetype": "text/x-python",
   "name": "python",
   "nbconvert_exporter": "python",
   "pygments_lexer": "ipython3",
   "version": "3.9.7"
  }
 },
 "nbformat": 4,
 "nbformat_minor": 5
}
