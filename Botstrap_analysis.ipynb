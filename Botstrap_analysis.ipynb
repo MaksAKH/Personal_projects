{
 "cells": [
  {
   "cell_type": "markdown",
   "id": "70222c7f",
   "metadata": {},
   "source": [
    "Задача\n",
    "1. Сравните результат между тестом и контролем по двум кейсам:\n",
    "\n",
    "Примените бутстрап (с np.mean) и критерий mann-whitney, а потом сравните p-value\n",
    "Примените бутстрап (с np.median) и критерий mann-whitney, а потом сравните p-value.\n",
    "\n",
    "2. Напишите выводы, которые можно сделать на основе анализа примененных критериев"
   ]
  },
  {
   "cell_type": "code",
   "execution_count": 250,
   "id": "45c65bb3",
   "metadata": {},
   "outputs": [],
   "source": [
    "import numpy as np\n",
    "import pandas as pd\n",
    "import seaborn as sns\n",
    "import scipy\n",
    "import scipy.stats as ss\n",
    "from scipy.stats import norm, mannwhitneyu\n",
    "import matplotlib.pyplot as plt\n",
    "\n",
    "from tqdm.auto import tqdm\n",
    "\n",
    "plt.style.use('ggplot')"
   ]
  },
  {
   "cell_type": "code",
   "execution_count": 1,
   "id": "07a9f340",
   "metadata": {},
   "outputs": [
    {
     "ename": "NameError",
     "evalue": "name 'pd' is not defined",
     "output_type": "error",
     "traceback": [
      "\u001b[1;31m---------------------------------------------------------------------------\u001b[0m",
      "\u001b[1;31mNameError\u001b[0m                                 Traceback (most recent call last)",
      "\u001b[1;32mC:\\Users\\73B5~1\\AppData\\Local\\Temp/ipykernel_19836/352784988.py\u001b[0m in \u001b[0;36m<module>\u001b[1;34m\u001b[0m\n\u001b[1;32m----> 1\u001b[1;33m \u001b[0mdf\u001b[0m \u001b[1;33m=\u001b[0m \u001b[0mpd\u001b[0m\u001b[1;33m.\u001b[0m\u001b[0mread_excel\u001b[0m\u001b[1;33m(\u001b[0m\u001b[1;34mr'C:\\Users\\Пользователь\\OneDrive\\Документы\\Statistic_data\\Lesson_9\\hw_bootstrap.csv'\u001b[0m\u001b[1;33m,\u001b[0m \u001b[0msep\u001b[0m\u001b[1;33m=\u001b[0m\u001b[1;34m';'\u001b[0m\u001b[1;33m)\u001b[0m\u001b[1;33m\u001b[0m\u001b[1;33m\u001b[0m\u001b[0m\n\u001b[0m\u001b[0;32m      2\u001b[0m \u001b[0mdf\u001b[0m\u001b[1;33m.\u001b[0m\u001b[0mhead\u001b[0m\u001b[1;33m(\u001b[0m\u001b[1;33m)\u001b[0m\u001b[1;33m\u001b[0m\u001b[1;33m\u001b[0m\u001b[0m\n",
      "\u001b[1;31mNameError\u001b[0m: name 'pd' is not defined"
     ]
    }
   ],
   "source": [
    "df = pd.read_csv(r'C:\\Users\\Пользователь\\OneDrive\\Документы\\Statistic_data\\Lesson_9\\hw_bootstrap.csv', sep=';')\n",
    "df.head()"
   ]
  },
  {
   "cell_type": "code",
   "execution_count": 218,
   "id": "3c03124e",
   "metadata": {},
   "outputs": [
    {
     "data": {
      "text/plain": [
       "Unnamed: 0           0\n",
       "value                0\n",
       "experimentVariant    0\n",
       "dtype: int64"
      ]
     },
     "execution_count": 218,
     "metadata": {},
     "output_type": "execute_result"
    }
   ],
   "source": [
    "#Проверим наличие пропущенных значений\n",
    "df.isna().sum()"
   ]
  },
  {
   "cell_type": "code",
   "execution_count": 219,
   "id": "72e4146d",
   "metadata": {},
   "outputs": [
    {
     "data": {
      "text/html": [
       "<div>\n",
       "<style scoped>\n",
       "    .dataframe tbody tr th:only-of-type {\n",
       "        vertical-align: middle;\n",
       "    }\n",
       "\n",
       "    .dataframe tbody tr th {\n",
       "        vertical-align: top;\n",
       "    }\n",
       "\n",
       "    .dataframe thead th {\n",
       "        text-align: right;\n",
       "    }\n",
       "</style>\n",
       "<table border=\"1\" class=\"dataframe\">\n",
       "  <thead>\n",
       "    <tr style=\"text-align: right;\">\n",
       "      <th></th>\n",
       "      <th>Unnamed: 0</th>\n",
       "      <th>value</th>\n",
       "      <th>experimentVariant</th>\n",
       "    </tr>\n",
       "  </thead>\n",
       "  <tbody>\n",
       "    <tr>\n",
       "      <th>0</th>\n",
       "      <td>1</td>\n",
       "      <td>10.380495</td>\n",
       "      <td>Control</td>\n",
       "    </tr>\n",
       "    <tr>\n",
       "      <th>1</th>\n",
       "      <td>2</td>\n",
       "      <td>9.546867</td>\n",
       "      <td>Control</td>\n",
       "    </tr>\n",
       "    <tr>\n",
       "      <th>2</th>\n",
       "      <td>3</td>\n",
       "      <td>11.088215</td>\n",
       "      <td>Control</td>\n",
       "    </tr>\n",
       "    <tr>\n",
       "      <th>3</th>\n",
       "      <td>4</td>\n",
       "      <td>10.147274</td>\n",
       "      <td>Control</td>\n",
       "    </tr>\n",
       "    <tr>\n",
       "      <th>4</th>\n",
       "      <td>5</td>\n",
       "      <td>9.789808</td>\n",
       "      <td>Control</td>\n",
       "    </tr>\n",
       "  </tbody>\n",
       "</table>\n",
       "</div>"
      ],
      "text/plain": [
       "   Unnamed: 0      value experimentVariant\n",
       "0           1  10.380495           Control\n",
       "1           2   9.546867           Control\n",
       "2           3  11.088215           Control\n",
       "3           4  10.147274           Control\n",
       "4           5   9.789808           Control"
      ]
     },
     "execution_count": 219,
     "metadata": {},
     "output_type": "execute_result"
    }
   ],
   "source": [
    "#Переведем в дробное число значения колонки value\n",
    "df['value'] = df.value.str.replace(',', '.')\n",
    "df['value'] = df.value.astype('float')\n",
    "df.head()"
   ]
  },
  {
   "cell_type": "code",
   "execution_count": 220,
   "id": "a9992eb5",
   "metadata": {},
   "outputs": [
    {
     "data": {
      "text/html": [
       "<div>\n",
       "<style scoped>\n",
       "    .dataframe tbody tr th:only-of-type {\n",
       "        vertical-align: middle;\n",
       "    }\n",
       "\n",
       "    .dataframe tbody tr th {\n",
       "        vertical-align: top;\n",
       "    }\n",
       "\n",
       "    .dataframe thead th {\n",
       "        text-align: right;\n",
       "    }\n",
       "</style>\n",
       "<table border=\"1\" class=\"dataframe\">\n",
       "  <thead>\n",
       "    <tr style=\"text-align: right;\">\n",
       "      <th></th>\n",
       "      <th>Unnamed: 0</th>\n",
       "      <th>value</th>\n",
       "      <th>experimentVariant</th>\n",
       "    </tr>\n",
       "  </thead>\n",
       "  <tbody>\n",
       "    <tr>\n",
       "      <th>0</th>\n",
       "      <td>1</td>\n",
       "      <td>10.380495</td>\n",
       "      <td>Control</td>\n",
       "    </tr>\n",
       "    <tr>\n",
       "      <th>1</th>\n",
       "      <td>2</td>\n",
       "      <td>9.546867</td>\n",
       "      <td>Control</td>\n",
       "    </tr>\n",
       "    <tr>\n",
       "      <th>2</th>\n",
       "      <td>3</td>\n",
       "      <td>11.088215</td>\n",
       "      <td>Control</td>\n",
       "    </tr>\n",
       "    <tr>\n",
       "      <th>3</th>\n",
       "      <td>4</td>\n",
       "      <td>10.147274</td>\n",
       "      <td>Control</td>\n",
       "    </tr>\n",
       "    <tr>\n",
       "      <th>4</th>\n",
       "      <td>5</td>\n",
       "      <td>9.789808</td>\n",
       "      <td>Control</td>\n",
       "    </tr>\n",
       "  </tbody>\n",
       "</table>\n",
       "</div>"
      ],
      "text/plain": [
       "   Unnamed: 0      value experimentVariant\n",
       "0           1  10.380495           Control\n",
       "1           2   9.546867           Control\n",
       "2           3  11.088215           Control\n",
       "3           4  10.147274           Control\n",
       "4           5   9.789808           Control"
      ]
     },
     "execution_count": 220,
     "metadata": {},
     "output_type": "execute_result"
    }
   ],
   "source": [
    "#Сформируем выборку по группе control\n",
    "df_control = df[df['experimentVariant'] == 'Control']\n",
    "df_control.head()"
   ]
  },
  {
   "cell_type": "code",
   "execution_count": 221,
   "id": "2ce40330",
   "metadata": {},
   "outputs": [
    {
     "data": {
      "text/plain": [
       "164     6.436541\n",
       "360     7.604354\n",
       "68      7.663521\n",
       "150     7.883926\n",
       "278     7.958207\n",
       "         ...    \n",
       "219    12.598569\n",
       "363    12.663784\n",
       "294    12.728285\n",
       "195    12.817541\n",
       "171    13.130346\n",
       "Length: 500, dtype: float64"
      ]
     },
     "execution_count": 221,
     "metadata": {},
     "output_type": "execute_result"
    }
   ],
   "source": [
    "#Изучем распеределние значений в группе control\n",
    "df_control_uniq = pd.Series(df_control.value.unique())\n",
    "df_control_uniq.sort_values()"
   ]
  },
  {
   "cell_type": "code",
   "execution_count": 222,
   "id": "bcafbb1b",
   "metadata": {},
   "outputs": [
    {
     "data": {
      "text/html": [
       "<div>\n",
       "<style scoped>\n",
       "    .dataframe tbody tr th:only-of-type {\n",
       "        vertical-align: middle;\n",
       "    }\n",
       "\n",
       "    .dataframe tbody tr th {\n",
       "        vertical-align: top;\n",
       "    }\n",
       "\n",
       "    .dataframe thead th {\n",
       "        text-align: right;\n",
       "    }\n",
       "</style>\n",
       "<table border=\"1\" class=\"dataframe\">\n",
       "  <thead>\n",
       "    <tr style=\"text-align: right;\">\n",
       "      <th></th>\n",
       "      <th>Unnamed: 0</th>\n",
       "      <th>value</th>\n",
       "      <th>experimentVariant</th>\n",
       "    </tr>\n",
       "  </thead>\n",
       "  <tbody>\n",
       "    <tr>\n",
       "      <th>500</th>\n",
       "      <td>501</td>\n",
       "      <td>10.380495</td>\n",
       "      <td>Treatment</td>\n",
       "    </tr>\n",
       "    <tr>\n",
       "      <th>501</th>\n",
       "      <td>502</td>\n",
       "      <td>9.546867</td>\n",
       "      <td>Treatment</td>\n",
       "    </tr>\n",
       "    <tr>\n",
       "      <th>502</th>\n",
       "      <td>503</td>\n",
       "      <td>11.088215</td>\n",
       "      <td>Treatment</td>\n",
       "    </tr>\n",
       "    <tr>\n",
       "      <th>503</th>\n",
       "      <td>504</td>\n",
       "      <td>10.147274</td>\n",
       "      <td>Treatment</td>\n",
       "    </tr>\n",
       "    <tr>\n",
       "      <th>504</th>\n",
       "      <td>505</td>\n",
       "      <td>9.789808</td>\n",
       "      <td>Treatment</td>\n",
       "    </tr>\n",
       "  </tbody>\n",
       "</table>\n",
       "</div>"
      ],
      "text/plain": [
       "     Unnamed: 0      value experimentVariant\n",
       "500         501  10.380495         Treatment\n",
       "501         502   9.546867         Treatment\n",
       "502         503  11.088215         Treatment\n",
       "503         504  10.147274         Treatment\n",
       "504         505   9.789808         Treatment"
      ]
     },
     "execution_count": 222,
     "metadata": {},
     "output_type": "execute_result"
    }
   ],
   "source": [
    "#Сформируем выборку по группе treatment\n",
    "df_treatment = df[df['experimentVariant'] == 'Treatment']\n",
    "df_treatment.head()"
   ]
  },
  {
   "cell_type": "code",
   "execution_count": 223,
   "id": "0a6b0109",
   "metadata": {},
   "outputs": [
    {
     "data": {
      "text/plain": [
       "164       6.436541\n",
       "360       7.604354\n",
       "68        7.663521\n",
       "150       7.883926\n",
       "278       7.958207\n",
       "          ...     \n",
       "495    1000.000000\n",
       "496    1200.000000\n",
       "497    1500.000000\n",
       "498    2000.000000\n",
       "499    3000.000000\n",
       "Length: 500, dtype: float64"
      ]
     },
     "execution_count": 223,
     "metadata": {},
     "output_type": "execute_result"
    }
   ],
   "source": [
    "#Изучим распределение значений в группе treatment\n",
    "df_treatment_uniq = pd.Series(df_treatment.value.unique())\n",
    "df_treatment_uniq.sort_values()"
   ]
  },
  {
   "cell_type": "code",
   "execution_count": 224,
   "id": "fffffff4",
   "metadata": {},
   "outputs": [
    {
     "data": {
      "text/plain": [
       "<seaborn.axisgrid.FacetGrid at 0x2a847bdc6a0>"
      ]
     },
     "execution_count": 224,
     "metadata": {},
     "output_type": "execute_result"
    },
    {
     "data": {
      "image/png": "[encoded data removed]",
      "text/plain": [
       "<Figure size 360x360 with 1 Axes>"
      ]
     },
     "metadata": {},
     "output_type": "display_data"
    }
   ],
   "source": [
    "#Визуализируем распеределение значений по контрольной группе\n",
    "sns.displot(data=df_control, x='value')"
   ]
  },
  {
   "cell_type": "code",
   "execution_count": 225,
   "id": "ff821292",
   "metadata": {},
   "outputs": [
    {
     "data": {
      "text/plain": [
       "<seaborn.axisgrid.FacetGrid at 0x2a847bc7340>"
      ]
     },
     "execution_count": 225,
     "metadata": {},
     "output_type": "execute_result"
    },
    {
     "data": {
      "image/png": "[encoded data removed]",
      "text/plain": [
       "<Figure size 360x360 with 1 Axes>"
      ]
     },
     "metadata": {},
     "output_type": "display_data"
    }
   ],
   "source": [
    "#Визуализируем распеределение значений по группе treatment\n",
    "sns.displot(data=df_treatment, x='value')"
   ]
  },
  {
   "cell_type": "code",
   "execution_count": 226,
   "id": "e5b7d567",
   "metadata": {},
   "outputs": [
    {
     "data": {
      "text/plain": [
       "MannwhitneyuResult(statistic=124189.5, pvalue=0.8592148582485579)"
      ]
     },
     "execution_count": 226,
     "metadata": {},
     "output_type": "execute_result"
    }
   ],
   "source": [
    "#Критерий Манна-Уитни к двум группам\n",
    "mannwhitneyu(df_control.value, df_treatment.value)"
   ]
  },
  {
   "cell_type": "code",
   "execution_count": null,
   "id": "ccf8b831",
   "metadata": {},
   "outputs": [],
   "source": []
  },
  {
   "cell_type": "markdown",
   "id": "b5658a93",
   "metadata": {},
   "source": [
    "Проведем бутстрап анализ контрольной и treatment групп по медиане и среднему значению\n",
    "\n",
    "Проанализируем медианы групп"
   ]
  },
  {
   "cell_type": "code",
   "execution_count": 227,
   "id": "8b3ce75e",
   "metadata": {},
   "outputs": [
    {
     "name": "stdout",
     "output_type": "stream",
     "text": [
      "Медиана для Control group, Original: 10.0184651909296, Boot: 10.0184651909296\n",
      "Медиана для Treatment group, Original: 10.02584684253515, Boot: 10.0208617676605\n"
     ]
    }
   ],
   "source": [
    "#Проведем анализ контрольной группы\n",
    "boot_it = 2000\n",
    "boot_data_control = []\n",
    "boot_conf_level = 0.95\n",
    "for i in range(boot_it):\n",
    "    samples = df_control['value'].sample(len(df_control['value']), replace = True)\n",
    "    boot_data_control.append(np.median(samples))\n",
    "\n",
    "print(f'Медиана для Control group, Original: {np.median(df_control[\"value\"])}, Boot: {np.median(boot_data_control)}')\n",
    "\n",
    "#Проведем анализ Treatment группы\n",
    "boot_it = 2000\n",
    "boot_data_treatment = []\n",
    "boot_conf_level = 0.95\n",
    "for i in range(boot_it):\n",
    "    samples = df_treatment['value'].sample(len(df_treatment['value']), replace = True)\n",
    "    boot_data_treatment.append(np.median(samples))\n",
    "\n",
    "print(f'Медиана для Treatment group, Original: {np.median(df_treatment[\"value\"])}, Boot: {np.median(boot_data_treatment)}')\n"
   ]
  },
  {
   "cell_type": "code",
   "execution_count": 277,
   "id": "4fad4b71",
   "metadata": {},
   "outputs": [
    {
     "name": "stdout",
     "output_type": "stream",
     "text": [
      "Доверительный интервал для контрольной группы \n",
      " 0.025     9.939493\n",
      "0.975    10.114655\n",
      "dtype: float64\n",
      "Доверительный интервал для treatment группы \n",
      " 0.025    13.952128\n",
      "0.975    45.264545\n",
      "dtype: float64\n"
     ]
    }
   ],
   "source": [
    "# Найдем доверительный интервал для контрольной группы\n",
    "left_ci = (1 - boot_conf_level)/2\n",
    "right_ci = 1 - (1 - boot_conf_level) / 2\n",
    "ci_control = pd.Series(boot_data_control).quantile([left_ci, right_ci])\n",
    "\n",
    "print('Доверительный интервал для контрольной группы \\n', ci_control)\n",
    "\n",
    "# Найдем доверительный интервал для treatment группы\n",
    "left_ci = (1 - boot_conf_level)/2\n",
    "right_ci = 1 - (1 - boot_conf_level) / 2\n",
    "ci_treatment = pd.Series(boot_data_treatment).quantile([left_ci, right_ci])\n",
    "\n",
    "print('Доверительный интервал для treatment группы \\n', ci_treatment)"
   ]
  },
  {
   "cell_type": "code",
   "execution_count": 229,
   "id": "b5586ee5",
   "metadata": {},
   "outputs": [
    {
     "data": {
      "image/png": "[encoded data removed]",
      "text/plain": [
       "<Figure size 720x648 with 1 Axes>"
      ]
     },
     "metadata": {},
     "output_type": "display_data"
    }
   ],
   "source": [
    "#Визуализируем распределеие медиан для контрольной группы\n",
    "plt.hist(pd.Series(boot_data_control), bins = 50, color='red')\n",
    "\n",
    "#Визуализируем распределеие медиан для treatment группы\n",
    "plt.hist(pd.Series(boot_data_treatment), bins = 50, color='blue')\n",
    "plt.style.use('ggplot')\n",
    "plt.vlines(ci,ymin=0,ymax=50,linestyle='--')\n",
    "plt.xlabel('boot_data')\n",
    "plt.ylabel('frequency')\n",
    "plt.title(\"Histogram of median of boot_data\")\n",
    "\n",
    "plt.show()"
   ]
  },
  {
   "cell_type": "code",
   "execution_count": 230,
   "id": "e0a3c90a",
   "metadata": {},
   "outputs": [
    {
     "data": {
      "text/plain": [
       "MannwhitneyuResult(statistic=1949794.5, pvalue=0.16918829892872922)"
      ]
     },
     "execution_count": 230,
     "metadata": {},
     "output_type": "execute_result"
    }
   ],
   "source": [
    "#Критерий Манна-Уитни к двум группам\n",
    "mannwhitneyu(boot_data_control, boot_data_treatment)"
   ]
  },
  {
   "cell_type": "markdown",
   "id": "c54327bb",
   "metadata": {},
   "source": [
    "Проанализируем средние значения по группам"
   ]
  },
  {
   "cell_type": "code",
   "execution_count": 231,
   "id": "1c9de5bb",
   "metadata": {},
   "outputs": [
    {
     "name": "stdout",
     "output_type": "stream",
     "text": [
      "Медиана для Control group, Original: 10.0268665338043, Boot: 10.027278063022774\n",
      "Медиана для Treatment group, Original: 27.321499056661583, Boot: 27.503278258371104\n"
     ]
    }
   ],
   "source": [
    "#Проведем анализ контрольной группы\n",
    "boot_it = 2000\n",
    "boot_data_control = []\n",
    "boot_conf_level = 0.95\n",
    "for i in range(boot_it):\n",
    "    samples = df_control['value'].sample(len(df_control['value']), replace = True)\n",
    "    boot_data_control.append(np.mean(samples))\n",
    "\n",
    "print(f'Медиана для Control group, Original: {np.mean(df_control[\"value\"])}, Boot: {np.mean(boot_data_control)}')\n",
    "\n",
    "#Проведем анализ Treatment группы\n",
    "boot_it = 2000\n",
    "boot_data_treatment = []\n",
    "boot_conf_level = 0.95\n",
    "for i in range(boot_it):\n",
    "    samples = df_treatment['value'].sample(len(df_treatment['value']), replace = True)\n",
    "    boot_data_treatment.append(np.mean(samples))\n",
    "\n",
    "print(f'Медиана для Treatment group, Original: {np.mean(df_treatment[\"value\"])}, Boot: {np.mean(boot_data_treatment)}')"
   ]
  },
  {
   "cell_type": "code",
   "execution_count": 276,
   "id": "e3af8311",
   "metadata": {},
   "outputs": [
    {
     "name": "stdout",
     "output_type": "stream",
     "text": [
      "Доверительный интервал для контрольной группы \n",
      " 0.025     9.939493\n",
      "0.975    10.114655\n",
      "dtype: float64\n",
      "Доверительный интервал для treatment группы \n",
      " 0.025    13.952128\n",
      "0.975    45.264545\n",
      "dtype: float64\n"
     ]
    }
   ],
   "source": [
    "# Найдем доверительный интервал для контрольной группы\n",
    "left_ci = (1 - boot_conf_level)/2\n",
    "right_ci = 1 - (1 - boot_conf_level) / 2\n",
    "ci_control = pd.Series(boot_data_control).quantile([left_ci, right_ci])\n",
    "\n",
    "print('Доверительный интервал для контрольной группы \\n', ci_control)\n",
    "\n",
    "# Найдем доверительный интервал для treatment группы\n",
    "left_ci = (1 - boot_conf_level)/2\n",
    "right_ci = 1 - (1 - boot_conf_level) / 2\n",
    "ci_treatment = pd.Series(boot_data_treatment).quantile([left_ci, right_ci])\n",
    "\n",
    "print('Доверительный интервал для treatment группы \\n', ci_treatment)"
   ]
  },
  {
   "cell_type": "code",
   "execution_count": 271,
   "id": "40596a0d",
   "metadata": {},
   "outputs": [
    {
     "data": {
      "image/png": "[encoded data removed]",
      "text/plain": [
       "<Figure size 720x648 with 1 Axes>"
      ]
     },
     "metadata": {},
     "output_type": "display_data"
    },
    {
     "data": {
      "image/png": "[encoded data removed]",
      "text/plain": [
       "<Figure size 720x648 with 1 Axes>"
      ]
     },
     "metadata": {},
     "output_type": "display_data"
    }
   ],
   "source": [
    "#Визуализируем распределеие медиан для контрольной группы\n",
    "plt.hist(pd.Series(boot_data_control), bins = 50, color='red')\n",
    "\n",
    "plt.style.use('ggplot')\n",
    "plt.vlines(ci_control,ymin=0,ymax=50,linestyle='--')\n",
    "plt.xlabel('boot_data')\n",
    "plt.ylabel('frequency')\n",
    "plt.title(\"Histogram of mean of boot_data_control\")\n",
    "\n",
    "plt.show()\n",
    "#Визуализируем распределеие медиан для treatment группы\n",
    "plt.hist(pd.Series(boot_data_treatment), bins = 50, color='blue')\n",
    "plt.style.use('ggplot')\n",
    "plt.vlines(ci_treatment,ymin=0,ymax=50,linestyle='--')\n",
    "plt.xlabel('boot_data')\n",
    "plt.ylabel('frequency')\n",
    "plt.title(\"Histogram of mean of boot_data_treatment\")\n",
    "\n",
    "plt.show()"
   ]
  },
  {
   "cell_type": "code",
   "execution_count": 234,
   "id": "e6e15804",
   "metadata": {},
   "outputs": [
    {
     "data": {
      "text/plain": [
       "MannwhitneyuResult(statistic=6903.0, pvalue=0.0)"
      ]
     },
     "execution_count": 234,
     "metadata": {},
     "output_type": "execute_result"
    }
   ],
   "source": [
    "#Критерий Манна-Уитни к двум группам\n",
    "mannwhitneyu(boot_data_control, boot_data_treatment)"
   ]
  },
  {
   "cell_type": "code",
   "execution_count": 272,
   "id": "8dff6643",
   "metadata": {},
   "outputs": [],
   "source": [
    "#Среднее значение бутстрап анализ"
   ]
  },
  {
   "cell_type": "code",
   "execution_count": 235,
   "id": "4104667f",
   "metadata": {},
   "outputs": [],
   "source": [
    "# Объявим функцию, которая позволит проверять гипотезы с помощью бутстрапа\n",
    "def get_bootstrap(\n",
    "    df_control, # числовые значения первой выборки\n",
    "    df_treatment, # числовые значения второй выборки\n",
    "    boot_it = 1000, # количество бутстрэп-подвыборок\n",
    "    statistic = np.mean, # интересующая нас статистика\n",
    "    bootstrap_conf_level = 0.95 # уровень значимости\n",
    "):\n",
    "    boot_len = max([len(df_control), len(df_treatment)])\n",
    "    boot_data = []\n",
    "    for i in tqdm(range(boot_it)): # извлекаем подвыборки\n",
    "        samples_1 = df_control.sample(\n",
    "            boot_len, \n",
    "            replace = True # параметр возвращения\n",
    "        ).values\n",
    "        \n",
    "        samples_2 = df_treatment.sample(\n",
    "            boot_len, \n",
    "            replace = True\n",
    "        ).values\n",
    "        \n",
    "        boot_data.append(statistic(samples_1-samples_2)) # mean() - применяем статистику\n",
    "        \n",
    "    pd_boot_data = pd.DataFrame(boot_data)\n",
    "        \n",
    "    left_quant = (1 - bootstrap_conf_level)/2\n",
    "    right_quant = 1 - (1 - bootstrap_conf_level) / 2\n",
    "    ci = pd_boot_data.quantile([left_quant, right_quant])\n",
    "        \n",
    "    p_1 = norm.cdf(\n",
    "        x = 0, \n",
    "        loc = np.mean(boot_data), \n",
    "        scale = np.std(boot_data)\n",
    "    )\n",
    "    p_2 = norm.cdf(\n",
    "        x = 0, \n",
    "        loc = -np.mean(boot_data), \n",
    "        scale = np.std(boot_data)\n",
    "    )\n",
    "    p_value = min(p_1, p_2) * 2\n",
    "        \n",
    "    # Визуализация\n",
    "    plt.hist(pd_boot_data[0], bins = 50)\n",
    "    \n",
    "    plt.style.use('ggplot')\n",
    "    plt.vlines(ci,ymin=0,ymax=50,linestyle='--')\n",
    "    plt.xlabel('boot_data')\n",
    "    plt.ylabel('frequency')\n",
    "    plt.title(\"Histogram of boot_data\")\n",
    "    plt.show()\n",
    "       \n",
    "    return {\"boot_data\": boot_data, \n",
    "            \"ci\": ci, \n",
    "            \"p_value\": p_value}"
   ]
  },
  {
   "cell_type": "code",
   "execution_count": 236,
   "id": "bc54266b",
   "metadata": {},
   "outputs": [
    {
     "data": {
      "application/vnd.jupyter.widget-view+json": {
       "model_id": "0fa33844aa264ff9af5bb04c483ef72d",
       "version_major": 2,
       "version_minor": 0
      },
      "text/plain": [
       "  0%|          | 0/2000 [00:00<?, ?it/s]"
      ]
     },
     "metadata": {},
     "output_type": "display_data"
    },
    {
     "data": {
      "image/png": "[encoded data removed]",
      "text/plain": [
       "<Figure size 720x648 with 1 Axes>"
      ]
     },
     "metadata": {},
     "output_type": "display_data"
    }
   ],
   "source": [
    "booted_data = get_bootstrap(df_treatment.value, df_control.value, boot_it = 2000) # в результате хранится разница двух распределений, ДИ и pvalue"
   ]
  },
  {
   "cell_type": "code",
   "execution_count": 237,
   "id": "d4059974",
   "metadata": {},
   "outputs": [
    {
     "data": {
      "text/plain": [
       "0.037309029828026134"
      ]
     },
     "execution_count": 237,
     "metadata": {},
     "output_type": "execute_result"
    }
   ],
   "source": [
    "booted_data[\"p_value\"]"
   ]
  },
  {
   "cell_type": "code",
   "execution_count": 238,
   "id": "6c9c3d57",
   "metadata": {},
   "outputs": [
    {
     "data": {
      "text/html": [
       "<div>\n",
       "<style scoped>\n",
       "    .dataframe tbody tr th:only-of-type {\n",
       "        vertical-align: middle;\n",
       "    }\n",
       "\n",
       "    .dataframe tbody tr th {\n",
       "        vertical-align: top;\n",
       "    }\n",
       "\n",
       "    .dataframe thead th {\n",
       "        text-align: right;\n",
       "    }\n",
       "</style>\n",
       "<table border=\"1\" class=\"dataframe\">\n",
       "  <thead>\n",
       "    <tr style=\"text-align: right;\">\n",
       "      <th></th>\n",
       "      <th>0</th>\n",
       "    </tr>\n",
       "  </thead>\n",
       "  <tbody>\n",
       "    <tr>\n",
       "      <th>0.025</th>\n",
       "      <td>3.908625</td>\n",
       "    </tr>\n",
       "    <tr>\n",
       "      <th>0.975</th>\n",
       "      <td>35.346023</td>\n",
       "    </tr>\n",
       "  </tbody>\n",
       "</table>\n",
       "</div>"
      ],
      "text/plain": [
       "               0\n",
       "0.025   3.908625\n",
       "0.975  35.346023"
      ]
     },
     "execution_count": 238,
     "metadata": {},
     "output_type": "execute_result"
    }
   ],
   "source": [
    "booted_data[\"ci\"]"
   ]
  },
  {
   "cell_type": "markdown",
   "id": "8c6c492c",
   "metadata": {},
   "source": [
    "сравните p-value"
   ]
  },
  {
   "cell_type": "code",
   "execution_count": 239,
   "id": "c6ef3568",
   "metadata": {},
   "outputs": [],
   "source": [
    "#Медиана бутстрап анализ"
   ]
  },
  {
   "cell_type": "code",
   "execution_count": 240,
   "id": "1b321ede",
   "metadata": {},
   "outputs": [],
   "source": [
    "# Объявим функцию, которая позволит проверять гипотезы с помощью бутстрапа\n",
    "def get_bootstrap(\n",
    "    df_control, # числовые значения первой выборки\n",
    "    df_treatment, # числовые значения второй выборки\n",
    "    boot_it = 1000, # количество бутстрэп-подвыборок\n",
    "    statistic = np.median, # интересующая нас статистика\n",
    "    bootstrap_conf_level = 0.95 # уровень значимости\n",
    "):\n",
    "    boot_len = max([len(df_control), len(df_treatment)])\n",
    "    boot_data = []\n",
    "    for i in tqdm(range(boot_it)): # извлекаем подвыборки\n",
    "        samples_1 = df_control.sample(\n",
    "            boot_len, \n",
    "            replace = True # параметр возвращения\n",
    "        ).values\n",
    "        \n",
    "        samples_2 = df_treatment.sample(\n",
    "            boot_len, \n",
    "            replace = True\n",
    "        ).values\n",
    "        \n",
    "        boot_data.append(statistic(samples_1-samples_2)) # median() - применяем статистику\n",
    "        \n",
    "    pd_boot_data = pd.DataFrame(boot_data)\n",
    "        \n",
    "    left_quant = (1 - bootstrap_conf_level)/2\n",
    "    right_quant = 1 - (1 - bootstrap_conf_level) / 2\n",
    "    ci = pd_boot_data.quantile([left_quant, right_quant])\n",
    "        \n",
    "    p_1 = norm.cdf(\n",
    "        x = 0, \n",
    "        loc = np.median(boot_data), \n",
    "        scale = np.std(boot_data)\n",
    "    )\n",
    "    p_2 = norm.cdf(\n",
    "        x = 0, \n",
    "        loc = -np.median(boot_data), \n",
    "        scale = np.std(boot_data)\n",
    "    )\n",
    "    p_value = min(p_1, p_2) * 2\n",
    "        \n",
    "    # Визуализация\n",
    "    plt.hist(pd_boot_data[0], bins = 50)\n",
    "    \n",
    "    plt.style.use('ggplot')\n",
    "    plt.vlines(ci,ymin=0,ymax=50,linestyle='--')\n",
    "    plt.xlabel('boot_data')\n",
    "    plt.ylabel('frequency')\n",
    "    plt.title(\"Histogram of boot_data\")\n",
    "    plt.show()\n",
    "       \n",
    "    return {\"boot_data\": boot_data, \n",
    "            \"ci\": ci, \n",
    "            \"p_value\": p_value}"
   ]
  },
  {
   "cell_type": "code",
   "execution_count": 241,
   "id": "df706865",
   "metadata": {},
   "outputs": [
    {
     "data": {
      "application/vnd.jupyter.widget-view+json": {
       "model_id": "8f555d3c7e524cd6b34ad44bdd63151d",
       "version_major": 2,
       "version_minor": 0
      },
      "text/plain": [
       "  0%|          | 0/2000 [00:00<?, ?it/s]"
      ]
     },
     "metadata": {},
     "output_type": "display_data"
    },
    {
     "data": {
      "image/png": "[encoded data removed]",
      "text/plain": [
       "<Figure size 720x648 with 1 Axes>"
      ]
     },
     "metadata": {},
     "output_type": "display_data"
    }
   ],
   "source": [
    "booted_data = get_bootstrap(df_treatment.value, df_control.value, boot_it = 2000) # в результате хранится разница двух распределений, ДИ и pvalue"
   ]
  },
  {
   "cell_type": "code",
   "execution_count": 242,
   "id": "92b9f3fa",
   "metadata": {},
   "outputs": [
    {
     "data": {
      "text/plain": [
       "0.8947756664274013"
      ]
     },
     "execution_count": 242,
     "metadata": {},
     "output_type": "execute_result"
    }
   ],
   "source": [
    "booted_data[\"p_value\"]"
   ]
  },
  {
   "cell_type": "code",
   "execution_count": 243,
   "id": "f7ee40a9",
   "metadata": {},
   "outputs": [
    {
     "data": {
      "text/html": [
       "<div>\n",
       "<style scoped>\n",
       "    .dataframe tbody tr th:only-of-type {\n",
       "        vertical-align: middle;\n",
       "    }\n",
       "\n",
       "    .dataframe tbody tr th {\n",
       "        vertical-align: top;\n",
       "    }\n",
       "\n",
       "    .dataframe thead th {\n",
       "        text-align: right;\n",
       "    }\n",
       "</style>\n",
       "<table border=\"1\" class=\"dataframe\">\n",
       "  <thead>\n",
       "    <tr style=\"text-align: right;\">\n",
       "      <th></th>\n",
       "      <th>0</th>\n",
       "    </tr>\n",
       "  </thead>\n",
       "  <tbody>\n",
       "    <tr>\n",
       "      <th>0.025</th>\n",
       "      <td>-0.131164</td>\n",
       "    </tr>\n",
       "    <tr>\n",
       "      <th>0.975</th>\n",
       "      <td>0.157770</td>\n",
       "    </tr>\n",
       "  </tbody>\n",
       "</table>\n",
       "</div>"
      ],
      "text/plain": [
       "              0\n",
       "0.025 -0.131164\n",
       "0.975  0.157770"
      ]
     },
     "execution_count": 243,
     "metadata": {},
     "output_type": "execute_result"
    }
   ],
   "source": [
    "booted_data[\"ci\"]"
   ]
  },
  {
   "cell_type": "markdown",
   "id": "cb889255",
   "metadata": {},
   "source": [
    "***ЗАКЛЮЧЕНИЕ***\n",
    "\n",
    "***Предварительный анализ данных:***\n",
    "\n",
    "Пропущенных значений в данных нет. Каждая группа (control и treatment) содержит 500 значений.\n",
    "\n",
    "В группе control выбросов в данных не обнаружено, в группе treatmen имелись выбросы, ряд значений на 3 порядка отличался от значений, которые представлены в данных.\n",
    "\n",
    "При сравнении групп по критерию Манна-Уитни Н0 подтверждается, значимых различий нет (pvalue=0.86)"
   ]
  },
  {
   "cell_type": "markdown",
   "id": "603429d5",
   "metadata": {},
   "source": [
    "***Оценка выборок по средним значениям (mean)***\n",
    "\n",
    "***Критерий Манна-Уитни***\n",
    "Для среднего значения (mean) pvalue=0.0, соответственно мы должны бы были отвергнуть Н0, что значимых различий среднего значения между группами нет и принять Н1, что есть занчимые различия среднего значения в группах.\n",
    "\n",
    "Применение метода ***бутстрап*** показало pvaluе=0.037, в оответствии с которым Н0 должна быть отвергнута, однако, на графике 0 не попадает в доверительный интервал, поэтому Н0 на заданном уровне занчимости не принимается.\n",
    "\n",
    "Оба теста показали, что ***различия есть***"
   ]
  },
  {
   "cell_type": "markdown",
   "id": "d9109460",
   "metadata": {},
   "source": [
    "***Оценка выборок по медиане (median)***\n",
    "\n",
    "***Критерий Манна-Уитни***\n",
    "Для медианы (median) pvalue=0.17, соответственно мы должны бы были принять Н0, что нет значимых различий между медианным значением в группах.\n",
    "\n",
    "Применение метода ***бутстрап*** показало pvaluе=0.89, в оответствии с которым Н0 должна быть принята, что подтверждается граыфиком, на котором 0 попадает в доверительный интервал, поэтому Н0 на заданном уровне занчимости принимается.\n",
    "\n",
    "Оба теста показали, что ***различий нет***"
   ]
  },
  {
   "cell_type": "markdown",
   "id": "fcf99fc7",
   "metadata": {},
   "source": [
    "Противоречивые выводы для среднего и медианного значений объясняются выбросами в данных для группы treatment, что было установлено на основании проведенного предварительного анализа данных.\n",
    "\n",
    "Среднее значение менее устойчиво к выбросам в данных чем медиана, т.к. рассчитывается путем деления суммы всех чисел в наборе данных на количество чисел, т.е. одно или два крайних значения могут сильно изменить среднее значение. \n",
    "\n",
    "Медиана более надежна (менее чувствительна к выбросам в данных), чем среднее значение.\n",
    "\n",
    "Для принятия решения необходим анализ аномальных данных (выбросов) в группе tretment, и в случае оправданности их исключения из выборки, проведение повторного анализа по критерию Манна-Уитни и бутстрап анализа."
   ]
  },
  {
   "cell_type": "code",
   "execution_count": null,
   "id": "1bf63233",
   "metadata": {},
   "outputs": [],
   "source": []
  }
 ],
 "metadata": {
  "kernelspec": {
   "display_name": "Python 3 (ipykernel)",
   "language": "python",
   "name": "python3"
  },
  "language_info": {
   "codemirror_mode": {
    "name": "ipython",
    "version": 3
   },
   "file_extension": ".py",
   "mimetype": "text/x-python",
   "name": "python",
   "nbconvert_exporter": "python",
   "pygments_lexer": "ipython3",
   "version": "3.9.7"
  }
 },
 "nbformat": 4,
 "nbformat_minor": 5
}
